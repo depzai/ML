{
 "cells": [
  {
   "cell_type": "code",
   "execution_count": null,
   "metadata": {
    "collapsed": true
   },
   "outputs": [],
   "source": [
    "import random\n",
    "\n",
    "wordlist = ['cat', 'dog', 'cartoon', 'tennis', 'soccer', 'ballet', 'bedroom',\n",
    " 'bathroom', 'garden', 'park', 'swimmimng pool', 'living room', 'house',\n",
    " 'orange', 'pineapple', 'watermelon', 'pumpkin', 'halloween', 'thanksgiving',\n",
    " 'table', 'surfing', 'elephant', 'giraffe', 'rhinoceros', 'hippopotamus'\n",
    " 'savanah', 'africa', 'brooklyn', 'horse', 'pony', 'goldfish', 'swimming',\n",
    " 'moana', 'tahiti', 'moorea', 'fishing', 'lagoon', 'boat', 'kitchen', 'ukulele',\n",
    " 'surfboard', 'wetsuit', 'computer', 'telephone', 'guitar', 'piano', 'television',\n",
    " 'subway', 'airplane', 'electricity', 'baby', 'bottle', 'apartment', 'building',\n",
    " 'castle', 'princess', 'island', 'shark', 'dolphin', 'whale', 'balloon', 'leopard',\n",
    " 'cheetah', 'zebra', 'mango', 'banana']\n"
   ]
  },
  {
   "cell_type": "code",
   "execution_count": null,
   "metadata": {},
   "outputs": [
    {
     "name": "stdout",
     "output_type": "stream",
     "text": [
      "you have 10 chances to guess\n",
      "['_', '_', '_', '_', '_', '_']\n",
      "6\n",
      "0\n",
      "Which letter?a\n",
      "['_', '_', '_', '_', '_', '_']\n",
      "['_', '_', '_', '_', '_', '_']\n",
      "['_', '_', '_', '_', '_', '_']\n",
      "['_', '_', '_', '_', '_', '_']\n",
      "['_', '_', '_', '_', '_', '_']\n",
      "['_', '_', '_', '_', '_', 'a']\n",
      "0\n",
      "counter\n",
      "0\n"
     ]
    }
   ],
   "source": [
    "class Word:\n",
    "\tdef __init__(self, name):\n",
    "\t\tself.name = name\n",
    "\t\tself.length = len(self.name)\n",
    "\t\tself.guessed = 0\n",
    "\tdef changE(self):\n",
    "\t\tself.name = random.choice(wordlist)\n",
    "\t\tself.length = len(self.name)\n",
    "\t\tself.guessed = 0\n",
    "\tdef iterate(self):\n",
    "\t\tself.guessed = self.guessed + 1\n",
    "\n",
    "newword = Word('')\n",
    "newword.changE()\n",
    "nwlist = list(newword.name)\n",
    "nw = list(newword.name)\n",
    "\n",
    "\n",
    "\n",
    "i = 0\n",
    "for i in range(0,len(nw)):\n",
    "\tnw[i] = '_'\n",
    "\n",
    "#print(newword.name)\n",
    "print('you have 10 chances to guess')\n",
    "print(nw)\n",
    "print(newword.length)\n",
    "print(newword.guessed)\n",
    "\n",
    "counter = 0\n",
    "\n",
    "while counter < 10:\n",
    "\tguess = input('Which letter?')\n",
    "\tj = 0\n",
    "\tmatch = 0\n",
    "\tfor j in range(0,newword.length):\n",
    "\t\tif nwlist[j] == guess:\n",
    "\t\t\tnw[j] = guess\n",
    "\t\t\tnewword.iterate()\n",
    "\t\t\tmatch = match + 1\n",
    "\t\t\tprint(nw)\n",
    "\t\telse: print(nw)\n",
    "\tprint(counter)\n",
    "\tif match == 0:\n",
    "\t\tcounter = counter + 1\n",
    "\tprint('counter')\n",
    "\tprint(counter)\n",
    "\n",
    "\tif newword.guessed == newword.length:\n",
    "\t\tprint(newword.name)\n",
    "\t\tprint('Congratulations, you won with')\n",
    "\t\tprint(counter)\n",
    "\t\tprint('misses')\n",
    "\t\tbreak\n",
    "\n",
    "if counter == 10:\n",
    "\tprint('You lost')\n",
    "\tprint(newword.name)\n",
    "\n"
   ]
  }
 ],
 "metadata": {
  "kernelspec": {
   "display_name": "Python 3",
   "language": "python",
   "name": "python3"
  },
  "language_info": {
   "codemirror_mode": {
    "name": "ipython",
    "version": 3
   },
   "file_extension": ".py",
   "mimetype": "text/x-python",
   "name": "python",
   "nbconvert_exporter": "python",
   "pygments_lexer": "ipython3",
   "version": "3.6.3"
  }
 },
 "nbformat": 4,
 "nbformat_minor": 2
}
